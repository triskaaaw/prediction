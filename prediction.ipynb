{
 "cells": [
  {
   "cell_type": "code",
   "execution_count": 1,
   "metadata": {},
   "outputs": [],
   "source": [
    "# Importing important libraries\n",
    "\n",
    "# For data cleaning and visualization\n",
    "import pandas as pd\n",
    "import numpy as np\n",
    "import seaborn as sns\n",
    "import matplotlib.pyplot as plt\n",
    "%matplotlib inline\n",
    "\n",
    "# For preprocessing and building model\n",
    "from sklearn.linear_model import LinearRegression\n",
    "from sklearn.linear_model import Ridge\n",
    "from sklearn.linear_model import Lasso\n",
    "from sklearn.linear_model import ElasticNet\n",
    "from sklearn.svm import SVR\n",
    "from sklearn.ensemble import RandomForestRegressor\n",
    "from sklearn.metrics import f1_score\n",
    "from xgboost import XGBRegressor\n",
    "from sklearn.model_selection import train_test_split\n",
    "from sklearn.model_selection import GridSearchCV\n",
    "from sklearn.model_selection import cross_val_score"
   ]
  },
  {
   "cell_type": "code",
   "execution_count": 2,
   "metadata": {},
   "outputs": [],
   "source": [
    "# Membaca dataset retail\n",
    "train_features = pd.read_csv('train_features.csv')\n",
    "train_label = pd.read_csv('train_labels.csv')\n",
    "test = pd.read_csv('test_features.csv')\n",
    "format = pd.read_csv('submission_format.csv')"
   ]
  },
  {
   "cell_type": "markdown",
   "metadata": {},
   "source": [
    "# EDA & Cleaning"
   ]
  },
  {
   "cell_type": "code",
   "execution_count": 3,
   "metadata": {},
   "outputs": [
    {
     "data": {
      "text/html": [
       "<div>\n",
       "<style scoped>\n",
       "    .dataframe tbody tr th:only-of-type {\n",
       "        vertical-align: middle;\n",
       "    }\n",
       "\n",
       "    .dataframe tbody tr th {\n",
       "        vertical-align: top;\n",
       "    }\n",
       "\n",
       "    .dataframe thead th {\n",
       "        text-align: right;\n",
       "    }\n",
       "</style>\n",
       "<table border=\"1\" class=\"dataframe\">\n",
       "  <thead>\n",
       "    <tr style=\"text-align: right;\">\n",
       "      <th></th>\n",
       "      <th>tahun_kelahiran</th>\n",
       "      <th>pendidikan</th>\n",
       "      <th>status_pernikahan</th>\n",
       "      <th>pendapatan</th>\n",
       "      <th>jumlah_anak_balita</th>\n",
       "      <th>jumlah_anak_remaja</th>\n",
       "      <th>terakhir_belanja</th>\n",
       "      <th>belanja_buah</th>\n",
       "      <th>belanja_daging</th>\n",
       "      <th>belanja_ikan</th>\n",
       "      <th>belanja_kue</th>\n",
       "      <th>pembelian_diskon</th>\n",
       "      <th>pembelian_web</th>\n",
       "      <th>pembelian_toko</th>\n",
       "      <th>keluhan</th>\n",
       "      <th>tanggal_menjadi_anggota</th>\n",
       "    </tr>\n",
       "  </thead>\n",
       "  <tbody>\n",
       "    <tr>\n",
       "      <th>0</th>\n",
       "      <td>1979</td>\n",
       "      <td>Sarjana</td>\n",
       "      <td>Rencana Menikah</td>\n",
       "      <td>NaN</td>\n",
       "      <td>0.0</td>\n",
       "      <td>1.0</td>\n",
       "      <td>NaN</td>\n",
       "      <td>50575.0</td>\n",
       "      <td>260967.0</td>\n",
       "      <td>50575.0</td>\n",
       "      <td>20230.0</td>\n",
       "      <td>2.0</td>\n",
       "      <td>2.0</td>\n",
       "      <td>5.0</td>\n",
       "      <td>0.0</td>\n",
       "      <td>2014-05-05</td>\n",
       "    </tr>\n",
       "    <tr>\n",
       "      <th>1</th>\n",
       "      <td>1950</td>\n",
       "      <td>Sarjana</td>\n",
       "      <td>Rencana Menikah</td>\n",
       "      <td>84063000.0</td>\n",
       "      <td>NaN</td>\n",
       "      <td>NaN</td>\n",
       "      <td>70.0</td>\n",
       "      <td>6069.0</td>\n",
       "      <td>44506.0</td>\n",
       "      <td>80920.0</td>\n",
       "      <td>20230.0</td>\n",
       "      <td>9.0</td>\n",
       "      <td>6.0</td>\n",
       "      <td>4.0</td>\n",
       "      <td>0.0</td>\n",
       "      <td>2013-03-17</td>\n",
       "    </tr>\n",
       "    <tr>\n",
       "      <th>2</th>\n",
       "      <td>1966</td>\n",
       "      <td>Sarjana</td>\n",
       "      <td>Menikah</td>\n",
       "      <td>127532564.0</td>\n",
       "      <td>0.0</td>\n",
       "      <td>0.0</td>\n",
       "      <td>45.0</td>\n",
       "      <td>117611.0</td>\n",
       "      <td>265460.0</td>\n",
       "      <td>96341.0</td>\n",
       "      <td>145573.0</td>\n",
       "      <td>1.0</td>\n",
       "      <td>1.0</td>\n",
       "      <td>7.0</td>\n",
       "      <td>0.0</td>\n",
       "      <td>NaN</td>\n",
       "    </tr>\n",
       "    <tr>\n",
       "      <th>3</th>\n",
       "      <td>1961</td>\n",
       "      <td>Magister</td>\n",
       "      <td>Rencana Menikah</td>\n",
       "      <td>165579620.0</td>\n",
       "      <td>0.0</td>\n",
       "      <td>0.0</td>\n",
       "      <td>90.0</td>\n",
       "      <td>206346.0</td>\n",
       "      <td>1613901.0</td>\n",
       "      <td>27725.0</td>\n",
       "      <td>125868.0</td>\n",
       "      <td>0.0</td>\n",
       "      <td>7.0</td>\n",
       "      <td>8.0</td>\n",
       "      <td>0.0</td>\n",
       "      <td>NaN</td>\n",
       "    </tr>\n",
       "    <tr>\n",
       "      <th>4</th>\n",
       "      <td>1970</td>\n",
       "      <td>Sarjana</td>\n",
       "      <td>Rencana Menikah</td>\n",
       "      <td>117703159.0</td>\n",
       "      <td>1.0</td>\n",
       "      <td>1.0</td>\n",
       "      <td>78.0</td>\n",
       "      <td>90563.0</td>\n",
       "      <td>311757.0</td>\n",
       "      <td>40358.0</td>\n",
       "      <td>33875.0</td>\n",
       "      <td>7.0</td>\n",
       "      <td>6.0</td>\n",
       "      <td>5.0</td>\n",
       "      <td>0.0</td>\n",
       "      <td>NaN</td>\n",
       "    </tr>\n",
       "    <tr>\n",
       "      <th>5</th>\n",
       "      <td>1952</td>\n",
       "      <td>Magister</td>\n",
       "      <td>Sendiri</td>\n",
       "      <td>94346105.0</td>\n",
       "      <td>0.0</td>\n",
       "      <td>0.0</td>\n",
       "      <td>9.0</td>\n",
       "      <td>33509.0</td>\n",
       "      <td>49228.0</td>\n",
       "      <td>0.0</td>\n",
       "      <td>NaN</td>\n",
       "      <td>1.0</td>\n",
       "      <td>4.0</td>\n",
       "      <td>2.0</td>\n",
       "      <td>0.0</td>\n",
       "      <td>NaN</td>\n",
       "    </tr>\n",
       "    <tr>\n",
       "      <th>6</th>\n",
       "      <td>1963</td>\n",
       "      <td>Magister</td>\n",
       "      <td>Sendiri</td>\n",
       "      <td>75313000.0</td>\n",
       "      <td>2.0</td>\n",
       "      <td>NaN</td>\n",
       "      <td>96.0</td>\n",
       "      <td>0.0</td>\n",
       "      <td>14161.0</td>\n",
       "      <td>8092.0</td>\n",
       "      <td>2023.0</td>\n",
       "      <td>1.0</td>\n",
       "      <td>4.0</td>\n",
       "      <td>5.0</td>\n",
       "      <td>0.0</td>\n",
       "      <td>2013-05-03</td>\n",
       "    </tr>\n",
       "    <tr>\n",
       "      <th>7</th>\n",
       "      <td>1959</td>\n",
       "      <td>Sarjana</td>\n",
       "      <td>Rencana Menikah</td>\n",
       "      <td>137916316.0</td>\n",
       "      <td>0.0</td>\n",
       "      <td>0.0</td>\n",
       "      <td>21.0</td>\n",
       "      <td>38505.0</td>\n",
       "      <td>1146659.0</td>\n",
       "      <td>192956.0</td>\n",
       "      <td>240718.0</td>\n",
       "      <td>4.0</td>\n",
       "      <td>NaN</td>\n",
       "      <td>6.0</td>\n",
       "      <td>0.0</td>\n",
       "      <td>NaN</td>\n",
       "    </tr>\n",
       "    <tr>\n",
       "      <th>8</th>\n",
       "      <td>1957</td>\n",
       "      <td>Sarjana</td>\n",
       "      <td>Sendiri</td>\n",
       "      <td>138069883.0</td>\n",
       "      <td>0.0</td>\n",
       "      <td>0.0</td>\n",
       "      <td>26.0</td>\n",
       "      <td>56486.0</td>\n",
       "      <td>NaN</td>\n",
       "      <td>193754.0</td>\n",
       "      <td>202737.0</td>\n",
       "      <td>3.0</td>\n",
       "      <td>9.0</td>\n",
       "      <td>5.0</td>\n",
       "      <td>0.0</td>\n",
       "      <td>NaN</td>\n",
       "    </tr>\n",
       "    <tr>\n",
       "      <th>9</th>\n",
       "      <td>1975</td>\n",
       "      <td>Sarjana</td>\n",
       "      <td>Menikah</td>\n",
       "      <td>37567504.0</td>\n",
       "      <td>1.0</td>\n",
       "      <td>NaN</td>\n",
       "      <td>67.0</td>\n",
       "      <td>19061.0</td>\n",
       "      <td>28067.0</td>\n",
       "      <td>22223.0</td>\n",
       "      <td>14146.0</td>\n",
       "      <td>3.0</td>\n",
       "      <td>2.0</td>\n",
       "      <td>1.0</td>\n",
       "      <td>0.0</td>\n",
       "      <td>NaN</td>\n",
       "    </tr>\n",
       "    <tr>\n",
       "      <th>10</th>\n",
       "      <td>1953</td>\n",
       "      <td>Sarjana</td>\n",
       "      <td>Sendiri</td>\n",
       "      <td>34471060.0</td>\n",
       "      <td>0.0</td>\n",
       "      <td>0.0</td>\n",
       "      <td>59.0</td>\n",
       "      <td>14835.0</td>\n",
       "      <td>20379.0</td>\n",
       "      <td>18507.0</td>\n",
       "      <td>6893.0</td>\n",
       "      <td>3.0</td>\n",
       "      <td>1.0</td>\n",
       "      <td>5.0</td>\n",
       "      <td>0.0</td>\n",
       "      <td>NaN</td>\n",
       "    </tr>\n",
       "    <tr>\n",
       "      <th>11</th>\n",
       "      <td>1968</td>\n",
       "      <td>SMA</td>\n",
       "      <td>Menikah</td>\n",
       "      <td>142698390.0</td>\n",
       "      <td>0.0</td>\n",
       "      <td>1.0</td>\n",
       "      <td>57.0</td>\n",
       "      <td>330825.0</td>\n",
       "      <td>218283.0</td>\n",
       "      <td>79147.0</td>\n",
       "      <td>324377.0</td>\n",
       "      <td>1.0</td>\n",
       "      <td>8.0</td>\n",
       "      <td>12.0</td>\n",
       "      <td>0.0</td>\n",
       "      <td>NaN</td>\n",
       "    </tr>\n",
       "    <tr>\n",
       "      <th>12</th>\n",
       "      <td>1957</td>\n",
       "      <td>Sarjana</td>\n",
       "      <td>Sendiri</td>\n",
       "      <td>152418000.0</td>\n",
       "      <td>0.0</td>\n",
       "      <td>NaN</td>\n",
       "      <td>5.0</td>\n",
       "      <td>149702.0</td>\n",
       "      <td>337841.0</td>\n",
       "      <td>93058.0</td>\n",
       "      <td>72828.0</td>\n",
       "      <td>3.0</td>\n",
       "      <td>10.0</td>\n",
       "      <td>2.0</td>\n",
       "      <td>0.0</td>\n",
       "      <td>2013-11-21</td>\n",
       "    </tr>\n",
       "    <tr>\n",
       "      <th>13</th>\n",
       "      <td>1979</td>\n",
       "      <td>SMP</td>\n",
       "      <td>Menikah</td>\n",
       "      <td>14967000.0</td>\n",
       "      <td>NaN</td>\n",
       "      <td>0.0</td>\n",
       "      <td>65.0</td>\n",
       "      <td>34391.0</td>\n",
       "      <td>30345.0</td>\n",
       "      <td>32368.0</td>\n",
       "      <td>0.0</td>\n",
       "      <td>0.0</td>\n",
       "      <td>5.0</td>\n",
       "      <td>2.0</td>\n",
       "      <td>0.0</td>\n",
       "      <td>2012-11-14</td>\n",
       "    </tr>\n",
       "    <tr>\n",
       "      <th>14</th>\n",
       "      <td>1983</td>\n",
       "      <td>Sarjana</td>\n",
       "      <td>Menikah</td>\n",
       "      <td>87587900.0</td>\n",
       "      <td>1.0</td>\n",
       "      <td>0.0</td>\n",
       "      <td>61.0</td>\n",
       "      <td>8121.0</td>\n",
       "      <td>420520.0</td>\n",
       "      <td>44254.0</td>\n",
       "      <td>23153.0</td>\n",
       "      <td>4.0</td>\n",
       "      <td>8.0</td>\n",
       "      <td>6.0</td>\n",
       "      <td>0.0</td>\n",
       "      <td>NaN</td>\n",
       "    </tr>\n",
       "    <tr>\n",
       "      <th>15</th>\n",
       "      <td>1961</td>\n",
       "      <td>Magister</td>\n",
       "      <td>Rencana Menikah</td>\n",
       "      <td>107962505.0</td>\n",
       "      <td>0.0</td>\n",
       "      <td>1.0</td>\n",
       "      <td>45.0</td>\n",
       "      <td>9783.0</td>\n",
       "      <td>121506.0</td>\n",
       "      <td>14412.0</td>\n",
       "      <td>21201.0</td>\n",
       "      <td>3.0</td>\n",
       "      <td>2.0</td>\n",
       "      <td>5.0</td>\n",
       "      <td>0.0</td>\n",
       "      <td>NaN</td>\n",
       "    </tr>\n",
       "    <tr>\n",
       "      <th>16</th>\n",
       "      <td>1977</td>\n",
       "      <td>Doktor</td>\n",
       "      <td>Menikah</td>\n",
       "      <td>78371000.0</td>\n",
       "      <td>1.0</td>\n",
       "      <td>0.0</td>\n",
       "      <td>25.0</td>\n",
       "      <td>4046.0</td>\n",
       "      <td>22253.0</td>\n",
       "      <td>10115.0</td>\n",
       "      <td>6069.0</td>\n",
       "      <td>2.0</td>\n",
       "      <td>3.0</td>\n",
       "      <td>0.0</td>\n",
       "      <td>0.0</td>\n",
       "      <td>NaN</td>\n",
       "    </tr>\n",
       "    <tr>\n",
       "      <th>17</th>\n",
       "      <td>1973</td>\n",
       "      <td>Sarjana</td>\n",
       "      <td>Rencana Menikah</td>\n",
       "      <td>119766595.0</td>\n",
       "      <td>NaN</td>\n",
       "      <td>1.0</td>\n",
       "      <td>16.0</td>\n",
       "      <td>20230.0</td>\n",
       "      <td>181594.0</td>\n",
       "      <td>10650.0</td>\n",
       "      <td>51288.0</td>\n",
       "      <td>0.0</td>\n",
       "      <td>7.0</td>\n",
       "      <td>8.0</td>\n",
       "      <td>0.0</td>\n",
       "      <td>NaN</td>\n",
       "    </tr>\n",
       "    <tr>\n",
       "      <th>18</th>\n",
       "      <td>1969</td>\n",
       "      <td>Sarjana</td>\n",
       "      <td>Menikah</td>\n",
       "      <td>51837000.0</td>\n",
       "      <td>1.0</td>\n",
       "      <td>0.0</td>\n",
       "      <td>0.0</td>\n",
       "      <td>6069.0</td>\n",
       "      <td>10115.0</td>\n",
       "      <td>10115.0</td>\n",
       "      <td>10115.0</td>\n",
       "      <td>0.0</td>\n",
       "      <td>0.0</td>\n",
       "      <td>2.0</td>\n",
       "      <td>0.0</td>\n",
       "      <td>2013-06-23</td>\n",
       "    </tr>\n",
       "    <tr>\n",
       "      <th>19</th>\n",
       "      <td>1980</td>\n",
       "      <td>SMA</td>\n",
       "      <td>Sendiri</td>\n",
       "      <td>100650216.0</td>\n",
       "      <td>0.0</td>\n",
       "      <td>0.0</td>\n",
       "      <td>50.0</td>\n",
       "      <td>10115.0</td>\n",
       "      <td>3225667.0</td>\n",
       "      <td>16104.0</td>\n",
       "      <td>14022.0</td>\n",
       "      <td>0.0</td>\n",
       "      <td>0.0</td>\n",
       "      <td>2.0</td>\n",
       "      <td>0.0</td>\n",
       "      <td>NaN</td>\n",
       "    </tr>\n",
       "  </tbody>\n",
       "</table>\n",
       "</div>"
      ],
      "text/plain": [
       "    tahun_kelahiran pendidikan status_pernikahan   pendapatan  \\\n",
       "0              1979    Sarjana   Rencana Menikah          NaN   \n",
       "1              1950    Sarjana   Rencana Menikah   84063000.0   \n",
       "2              1966    Sarjana           Menikah  127532564.0   \n",
       "3              1961   Magister   Rencana Menikah  165579620.0   \n",
       "4              1970    Sarjana   Rencana Menikah  117703159.0   \n",
       "5              1952   Magister           Sendiri   94346105.0   \n",
       "6              1963   Magister           Sendiri   75313000.0   \n",
       "7              1959    Sarjana   Rencana Menikah  137916316.0   \n",
       "8              1957    Sarjana           Sendiri  138069883.0   \n",
       "9              1975    Sarjana           Menikah   37567504.0   \n",
       "10             1953    Sarjana           Sendiri   34471060.0   \n",
       "11             1968        SMA           Menikah  142698390.0   \n",
       "12             1957    Sarjana           Sendiri  152418000.0   \n",
       "13             1979        SMP           Menikah   14967000.0   \n",
       "14             1983    Sarjana           Menikah   87587900.0   \n",
       "15             1961   Magister   Rencana Menikah  107962505.0   \n",
       "16             1977     Doktor           Menikah   78371000.0   \n",
       "17             1973    Sarjana   Rencana Menikah  119766595.0   \n",
       "18             1969    Sarjana           Menikah   51837000.0   \n",
       "19             1980        SMA           Sendiri  100650216.0   \n",
       "\n",
       "    jumlah_anak_balita  jumlah_anak_remaja  terakhir_belanja  belanja_buah  \\\n",
       "0                  0.0                 1.0               NaN       50575.0   \n",
       "1                  NaN                 NaN              70.0        6069.0   \n",
       "2                  0.0                 0.0              45.0      117611.0   \n",
       "3                  0.0                 0.0              90.0      206346.0   \n",
       "4                  1.0                 1.0              78.0       90563.0   \n",
       "5                  0.0                 0.0               9.0       33509.0   \n",
       "6                  2.0                 NaN              96.0           0.0   \n",
       "7                  0.0                 0.0              21.0       38505.0   \n",
       "8                  0.0                 0.0              26.0       56486.0   \n",
       "9                  1.0                 NaN              67.0       19061.0   \n",
       "10                 0.0                 0.0              59.0       14835.0   \n",
       "11                 0.0                 1.0              57.0      330825.0   \n",
       "12                 0.0                 NaN               5.0      149702.0   \n",
       "13                 NaN                 0.0              65.0       34391.0   \n",
       "14                 1.0                 0.0              61.0        8121.0   \n",
       "15                 0.0                 1.0              45.0        9783.0   \n",
       "16                 1.0                 0.0              25.0        4046.0   \n",
       "17                 NaN                 1.0              16.0       20230.0   \n",
       "18                 1.0                 0.0               0.0        6069.0   \n",
       "19                 0.0                 0.0              50.0       10115.0   \n",
       "\n",
       "    belanja_daging  belanja_ikan  belanja_kue  pembelian_diskon  \\\n",
       "0         260967.0       50575.0      20230.0               2.0   \n",
       "1          44506.0       80920.0      20230.0               9.0   \n",
       "2         265460.0       96341.0     145573.0               1.0   \n",
       "3        1613901.0       27725.0     125868.0               0.0   \n",
       "4         311757.0       40358.0      33875.0               7.0   \n",
       "5          49228.0           0.0          NaN               1.0   \n",
       "6          14161.0        8092.0       2023.0               1.0   \n",
       "7        1146659.0      192956.0     240718.0               4.0   \n",
       "8              NaN      193754.0     202737.0               3.0   \n",
       "9          28067.0       22223.0      14146.0               3.0   \n",
       "10         20379.0       18507.0       6893.0               3.0   \n",
       "11        218283.0       79147.0     324377.0               1.0   \n",
       "12        337841.0       93058.0      72828.0               3.0   \n",
       "13         30345.0       32368.0          0.0               0.0   \n",
       "14        420520.0       44254.0      23153.0               4.0   \n",
       "15        121506.0       14412.0      21201.0               3.0   \n",
       "16         22253.0       10115.0       6069.0               2.0   \n",
       "17        181594.0       10650.0      51288.0               0.0   \n",
       "18         10115.0       10115.0      10115.0               0.0   \n",
       "19       3225667.0       16104.0      14022.0               0.0   \n",
       "\n",
       "    pembelian_web  pembelian_toko  keluhan tanggal_menjadi_anggota  \n",
       "0             2.0             5.0      0.0              2014-05-05  \n",
       "1             6.0             4.0      0.0              2013-03-17  \n",
       "2             1.0             7.0      0.0                     NaN  \n",
       "3             7.0             8.0      0.0                     NaN  \n",
       "4             6.0             5.0      0.0                     NaN  \n",
       "5             4.0             2.0      0.0                     NaN  \n",
       "6             4.0             5.0      0.0              2013-05-03  \n",
       "7             NaN             6.0      0.0                     NaN  \n",
       "8             9.0             5.0      0.0                     NaN  \n",
       "9             2.0             1.0      0.0                     NaN  \n",
       "10            1.0             5.0      0.0                     NaN  \n",
       "11            8.0            12.0      0.0                     NaN  \n",
       "12           10.0             2.0      0.0              2013-11-21  \n",
       "13            5.0             2.0      0.0              2012-11-14  \n",
       "14            8.0             6.0      0.0                     NaN  \n",
       "15            2.0             5.0      0.0                     NaN  \n",
       "16            3.0             0.0      0.0                     NaN  \n",
       "17            7.0             8.0      0.0                     NaN  \n",
       "18            0.0             2.0      0.0              2013-06-23  \n",
       "19            0.0             2.0      0.0                     NaN  "
      ]
     },
     "execution_count": 3,
     "metadata": {},
     "output_type": "execute_result"
    }
   ],
   "source": [
    "train_features.head(20)"
   ]
  },
  {
   "cell_type": "code",
   "execution_count": 4,
   "metadata": {},
   "outputs": [
    {
     "data": {
      "text/html": [
       "<div>\n",
       "<style scoped>\n",
       "    .dataframe tbody tr th:only-of-type {\n",
       "        vertical-align: middle;\n",
       "    }\n",
       "\n",
       "    .dataframe tbody tr th {\n",
       "        vertical-align: top;\n",
       "    }\n",
       "\n",
       "    .dataframe thead th {\n",
       "        text-align: right;\n",
       "    }\n",
       "</style>\n",
       "<table border=\"1\" class=\"dataframe\">\n",
       "  <thead>\n",
       "    <tr style=\"text-align: right;\">\n",
       "      <th></th>\n",
       "      <th>tahun_kelahiran</th>\n",
       "      <th>pendidikan</th>\n",
       "      <th>status_pernikahan</th>\n",
       "      <th>pendapatan</th>\n",
       "      <th>jumlah_anak_balita</th>\n",
       "      <th>jumlah_anak_remaja</th>\n",
       "      <th>terakhir_belanja</th>\n",
       "      <th>belanja_buah</th>\n",
       "      <th>belanja_daging</th>\n",
       "      <th>belanja_ikan</th>\n",
       "      <th>belanja_kue</th>\n",
       "      <th>pembelian_diskon</th>\n",
       "      <th>pembelian_web</th>\n",
       "      <th>pembelian_toko</th>\n",
       "      <th>keluhan</th>\n",
       "      <th>tanggal_menjadi_anggota</th>\n",
       "    </tr>\n",
       "  </thead>\n",
       "  <tbody>\n",
       "    <tr>\n",
       "      <th>1</th>\n",
       "      <td>1950</td>\n",
       "      <td>Sarjana</td>\n",
       "      <td>Rencana Menikah</td>\n",
       "      <td>84063000.0</td>\n",
       "      <td>NaN</td>\n",
       "      <td>NaN</td>\n",
       "      <td>70.0</td>\n",
       "      <td>6069.0</td>\n",
       "      <td>44506.0</td>\n",
       "      <td>80920.0</td>\n",
       "      <td>20230.0</td>\n",
       "      <td>9.0</td>\n",
       "      <td>6.0</td>\n",
       "      <td>4.0</td>\n",
       "      <td>0.0</td>\n",
       "      <td>2013-03-17</td>\n",
       "    </tr>\n",
       "    <tr>\n",
       "      <th>13</th>\n",
       "      <td>1979</td>\n",
       "      <td>SMP</td>\n",
       "      <td>Menikah</td>\n",
       "      <td>14967000.0</td>\n",
       "      <td>NaN</td>\n",
       "      <td>0.0</td>\n",
       "      <td>65.0</td>\n",
       "      <td>34391.0</td>\n",
       "      <td>30345.0</td>\n",
       "      <td>32368.0</td>\n",
       "      <td>0.0</td>\n",
       "      <td>0.0</td>\n",
       "      <td>5.0</td>\n",
       "      <td>2.0</td>\n",
       "      <td>0.0</td>\n",
       "      <td>2012-11-14</td>\n",
       "    </tr>\n",
       "    <tr>\n",
       "      <th>17</th>\n",
       "      <td>1973</td>\n",
       "      <td>Sarjana</td>\n",
       "      <td>Rencana Menikah</td>\n",
       "      <td>119766595.0</td>\n",
       "      <td>NaN</td>\n",
       "      <td>1.0</td>\n",
       "      <td>16.0</td>\n",
       "      <td>20230.0</td>\n",
       "      <td>181594.0</td>\n",
       "      <td>10650.0</td>\n",
       "      <td>51288.0</td>\n",
       "      <td>0.0</td>\n",
       "      <td>7.0</td>\n",
       "      <td>8.0</td>\n",
       "      <td>0.0</td>\n",
       "      <td>NaN</td>\n",
       "    </tr>\n",
       "    <tr>\n",
       "      <th>43</th>\n",
       "      <td>1954</td>\n",
       "      <td>Magister</td>\n",
       "      <td>Rencana Menikah</td>\n",
       "      <td>105339251.0</td>\n",
       "      <td>NaN</td>\n",
       "      <td>1.0</td>\n",
       "      <td>58.0</td>\n",
       "      <td>4046.0</td>\n",
       "      <td>154472.0</td>\n",
       "      <td>15851.0</td>\n",
       "      <td>442.0</td>\n",
       "      <td>7.0</td>\n",
       "      <td>9.0</td>\n",
       "      <td>4.0</td>\n",
       "      <td>0.0</td>\n",
       "      <td>NaN</td>\n",
       "    </tr>\n",
       "    <tr>\n",
       "      <th>52</th>\n",
       "      <td>1956</td>\n",
       "      <td>Magister</td>\n",
       "      <td>Rencana Menikah</td>\n",
       "      <td>190785436.0</td>\n",
       "      <td>NaN</td>\n",
       "      <td>0.0</td>\n",
       "      <td>59.0</td>\n",
       "      <td>77286.0</td>\n",
       "      <td>1082787.0</td>\n",
       "      <td>112601.0</td>\n",
       "      <td>19302.0</td>\n",
       "      <td>0.0</td>\n",
       "      <td>9.0</td>\n",
       "      <td>6.0</td>\n",
       "      <td>0.0</td>\n",
       "      <td>NaN</td>\n",
       "    </tr>\n",
       "    <tr>\n",
       "      <th>...</th>\n",
       "      <td>...</td>\n",
       "      <td>...</td>\n",
       "      <td>...</td>\n",
       "      <td>...</td>\n",
       "      <td>...</td>\n",
       "      <td>...</td>\n",
       "      <td>...</td>\n",
       "      <td>...</td>\n",
       "      <td>...</td>\n",
       "      <td>...</td>\n",
       "      <td>...</td>\n",
       "      <td>...</td>\n",
       "      <td>...</td>\n",
       "      <td>...</td>\n",
       "      <td>...</td>\n",
       "      <td>...</td>\n",
       "    </tr>\n",
       "    <tr>\n",
       "      <th>3731</th>\n",
       "      <td>1990</td>\n",
       "      <td>SMA</td>\n",
       "      <td>Menikah</td>\n",
       "      <td>125535217.0</td>\n",
       "      <td>NaN</td>\n",
       "      <td>2.0</td>\n",
       "      <td>41.0</td>\n",
       "      <td>35834.0</td>\n",
       "      <td>NaN</td>\n",
       "      <td>NaN</td>\n",
       "      <td>103129.0</td>\n",
       "      <td>0.0</td>\n",
       "      <td>0.0</td>\n",
       "      <td>4.0</td>\n",
       "      <td>0.0</td>\n",
       "      <td>NaN</td>\n",
       "    </tr>\n",
       "    <tr>\n",
       "      <th>3783</th>\n",
       "      <td>1966</td>\n",
       "      <td>Magister</td>\n",
       "      <td>Rencana Menikah</td>\n",
       "      <td>65730000.0</td>\n",
       "      <td>NaN</td>\n",
       "      <td>1.0</td>\n",
       "      <td>10.0</td>\n",
       "      <td>0.0</td>\n",
       "      <td>52598.0</td>\n",
       "      <td>NaN</td>\n",
       "      <td>0.0</td>\n",
       "      <td>2.0</td>\n",
       "      <td>4.0</td>\n",
       "      <td>NaN</td>\n",
       "      <td>0.0</td>\n",
       "      <td>2012-09-07</td>\n",
       "    </tr>\n",
       "    <tr>\n",
       "      <th>3792</th>\n",
       "      <td>1956</td>\n",
       "      <td>Doktor</td>\n",
       "      <td>Rencana Menikah</td>\n",
       "      <td>136934000.0</td>\n",
       "      <td>NaN</td>\n",
       "      <td>2.0</td>\n",
       "      <td>86.0</td>\n",
       "      <td>76874.0</td>\n",
       "      <td>NaN</td>\n",
       "      <td>24276.0</td>\n",
       "      <td>0.0</td>\n",
       "      <td>5.0</td>\n",
       "      <td>13.0</td>\n",
       "      <td>3.0</td>\n",
       "      <td>0.0</td>\n",
       "      <td>2013-03-07</td>\n",
       "    </tr>\n",
       "    <tr>\n",
       "      <th>3795</th>\n",
       "      <td>1987</td>\n",
       "      <td>SMA</td>\n",
       "      <td>Menikah</td>\n",
       "      <td>165167035.0</td>\n",
       "      <td>NaN</td>\n",
       "      <td>0.0</td>\n",
       "      <td>20.0</td>\n",
       "      <td>NaN</td>\n",
       "      <td>674183.0</td>\n",
       "      <td>54447.0</td>\n",
       "      <td>53628.0</td>\n",
       "      <td>2.0</td>\n",
       "      <td>3.0</td>\n",
       "      <td>8.0</td>\n",
       "      <td>0.0</td>\n",
       "      <td>NaN</td>\n",
       "    </tr>\n",
       "    <tr>\n",
       "      <th>3798</th>\n",
       "      <td>1968</td>\n",
       "      <td>Sarjana</td>\n",
       "      <td>Sendiri</td>\n",
       "      <td>124682000.0</td>\n",
       "      <td>NaN</td>\n",
       "      <td>1.0</td>\n",
       "      <td>48.0</td>\n",
       "      <td>26299.0</td>\n",
       "      <td>515865.0</td>\n",
       "      <td>24276.0</td>\n",
       "      <td>34391.0</td>\n",
       "      <td>2.0</td>\n",
       "      <td>5.0</td>\n",
       "      <td>14.0</td>\n",
       "      <td>0.0</td>\n",
       "      <td>2012-11-09</td>\n",
       "    </tr>\n",
       "  </tbody>\n",
       "</table>\n",
       "<p>190 rows × 16 columns</p>\n",
       "</div>"
      ],
      "text/plain": [
       "      tahun_kelahiran pendidikan status_pernikahan   pendapatan  \\\n",
       "1                1950    Sarjana   Rencana Menikah   84063000.0   \n",
       "13               1979        SMP           Menikah   14967000.0   \n",
       "17               1973    Sarjana   Rencana Menikah  119766595.0   \n",
       "43               1954   Magister   Rencana Menikah  105339251.0   \n",
       "52               1956   Magister   Rencana Menikah  190785436.0   \n",
       "...               ...        ...               ...          ...   \n",
       "3731             1990        SMA           Menikah  125535217.0   \n",
       "3783             1966   Magister   Rencana Menikah   65730000.0   \n",
       "3792             1956     Doktor   Rencana Menikah  136934000.0   \n",
       "3795             1987        SMA           Menikah  165167035.0   \n",
       "3798             1968    Sarjana           Sendiri  124682000.0   \n",
       "\n",
       "      jumlah_anak_balita  jumlah_anak_remaja  terakhir_belanja  belanja_buah  \\\n",
       "1                    NaN                 NaN              70.0        6069.0   \n",
       "13                   NaN                 0.0              65.0       34391.0   \n",
       "17                   NaN                 1.0              16.0       20230.0   \n",
       "43                   NaN                 1.0              58.0        4046.0   \n",
       "52                   NaN                 0.0              59.0       77286.0   \n",
       "...                  ...                 ...               ...           ...   \n",
       "3731                 NaN                 2.0              41.0       35834.0   \n",
       "3783                 NaN                 1.0              10.0           0.0   \n",
       "3792                 NaN                 2.0              86.0       76874.0   \n",
       "3795                 NaN                 0.0              20.0           NaN   \n",
       "3798                 NaN                 1.0              48.0       26299.0   \n",
       "\n",
       "      belanja_daging  belanja_ikan  belanja_kue  pembelian_diskon  \\\n",
       "1            44506.0       80920.0      20230.0               9.0   \n",
       "13           30345.0       32368.0          0.0               0.0   \n",
       "17          181594.0       10650.0      51288.0               0.0   \n",
       "43          154472.0       15851.0        442.0               7.0   \n",
       "52         1082787.0      112601.0      19302.0               0.0   \n",
       "...              ...           ...          ...               ...   \n",
       "3731             NaN           NaN     103129.0               0.0   \n",
       "3783         52598.0           NaN          0.0               2.0   \n",
       "3792             NaN       24276.0          0.0               5.0   \n",
       "3795        674183.0       54447.0      53628.0               2.0   \n",
       "3798        515865.0       24276.0      34391.0               2.0   \n",
       "\n",
       "      pembelian_web  pembelian_toko  keluhan tanggal_menjadi_anggota  \n",
       "1               6.0             4.0      0.0              2013-03-17  \n",
       "13              5.0             2.0      0.0              2012-11-14  \n",
       "17              7.0             8.0      0.0                     NaN  \n",
       "43              9.0             4.0      0.0                     NaN  \n",
       "52              9.0             6.0      0.0                     NaN  \n",
       "...             ...             ...      ...                     ...  \n",
       "3731            0.0             4.0      0.0                     NaN  \n",
       "3783            4.0             NaN      0.0              2012-09-07  \n",
       "3792           13.0             3.0      0.0              2013-03-07  \n",
       "3795            3.0             8.0      0.0                     NaN  \n",
       "3798            5.0            14.0      0.0              2012-11-09  \n",
       "\n",
       "[190 rows x 16 columns]"
      ]
     },
     "execution_count": 4,
     "metadata": {},
     "output_type": "execute_result"
    }
   ],
   "source": [
    "train_features.loc[train_features['jumlah_anak_balita'].isnull()]"
   ]
  },
  {
   "cell_type": "code",
   "execution_count": 5,
   "metadata": {},
   "outputs": [
    {
     "data": {
      "text/plain": [
       "tahun_kelahiran               0\n",
       "pendidikan                  189\n",
       "status_pernikahan           212\n",
       "pendapatan                  190\n",
       "jumlah_anak_balita          190\n",
       "jumlah_anak_remaja          204\n",
       "terakhir_belanja            172\n",
       "belanja_buah                181\n",
       "belanja_daging              178\n",
       "belanja_ikan                193\n",
       "belanja_kue                 214\n",
       "pembelian_diskon            178\n",
       "pembelian_web               165\n",
       "pembelian_toko              169\n",
       "keluhan                     196\n",
       "tanggal_menjadi_anggota    2752\n",
       "dtype: int64"
      ]
     },
     "execution_count": 5,
     "metadata": {},
     "output_type": "execute_result"
    }
   ],
   "source": [
    "train_features.isnull().sum()"
   ]
  },
  {
   "cell_type": "code",
   "execution_count": 6,
   "metadata": {},
   "outputs": [
    {
     "data": {
      "text/plain": [
       "Index(['tahun_kelahiran', 'pendidikan', 'status_pernikahan', 'pendapatan',\n",
       "       'jumlah_anak_balita', 'jumlah_anak_remaja', 'terakhir_belanja',\n",
       "       'belanja_buah', 'belanja_daging', 'belanja_ikan', 'belanja_kue',\n",
       "       'pembelian_diskon', 'pembelian_web', 'pembelian_toko', 'keluhan',\n",
       "       'tanggal_menjadi_anggota'],\n",
       "      dtype='object')"
      ]
     },
     "execution_count": 6,
     "metadata": {},
     "output_type": "execute_result"
    }
   ],
   "source": [
    "train_features.columns"
   ]
  },
  {
   "cell_type": "code",
   "execution_count": 7,
   "metadata": {},
   "outputs": [
    {
     "data": {
      "text/html": [
       "<div>\n",
       "<style scoped>\n",
       "    .dataframe tbody tr th:only-of-type {\n",
       "        vertical-align: middle;\n",
       "    }\n",
       "\n",
       "    .dataframe tbody tr th {\n",
       "        vertical-align: top;\n",
       "    }\n",
       "\n",
       "    .dataframe thead th {\n",
       "        text-align: right;\n",
       "    }\n",
       "</style>\n",
       "<table border=\"1\" class=\"dataframe\">\n",
       "  <thead>\n",
       "    <tr style=\"text-align: right;\">\n",
       "      <th></th>\n",
       "      <th>ID</th>\n",
       "      <th>tahun_kelahiran</th>\n",
       "      <th>pendidikan</th>\n",
       "      <th>status_pernikahan</th>\n",
       "      <th>pendapatan</th>\n",
       "      <th>jumlah_anak_balita</th>\n",
       "      <th>jumlah_anak_remaja</th>\n",
       "      <th>terakhir_belanja</th>\n",
       "      <th>belanja_buah</th>\n",
       "      <th>belanja_daging</th>\n",
       "      <th>belanja_ikan</th>\n",
       "      <th>belanja_kue</th>\n",
       "      <th>pembelian_diskon</th>\n",
       "      <th>pembelian_web</th>\n",
       "      <th>pembelian_toko</th>\n",
       "      <th>keluhan</th>\n",
       "      <th>tanggal_menjadi_anggota</th>\n",
       "    </tr>\n",
       "  </thead>\n",
       "  <tbody>\n",
       "    <tr>\n",
       "      <th>0</th>\n",
       "      <td>2241</td>\n",
       "      <td>1957</td>\n",
       "      <td>Sarjana</td>\n",
       "      <td>NaN</td>\n",
       "      <td>120660151.0</td>\n",
       "      <td>0.0</td>\n",
       "      <td>1.0</td>\n",
       "      <td>63.0</td>\n",
       "      <td>122277.0</td>\n",
       "      <td>541399.0</td>\n",
       "      <td>214192.0</td>\n",
       "      <td>84305.0</td>\n",
       "      <td>4.0</td>\n",
       "      <td>6.0</td>\n",
       "      <td>10.0</td>\n",
       "      <td>0.0</td>\n",
       "      <td>NaN</td>\n",
       "    </tr>\n",
       "    <tr>\n",
       "      <th>1</th>\n",
       "      <td>2274</td>\n",
       "      <td>1968</td>\n",
       "      <td>Doktor</td>\n",
       "      <td>Menikah</td>\n",
       "      <td>163551821.0</td>\n",
       "      <td>0.0</td>\n",
       "      <td>1.0</td>\n",
       "      <td>58.0</td>\n",
       "      <td>35761.0</td>\n",
       "      <td>353335.0</td>\n",
       "      <td>63365.0</td>\n",
       "      <td>41112.0</td>\n",
       "      <td>2.0</td>\n",
       "      <td>5.0</td>\n",
       "      <td>10.0</td>\n",
       "      <td>0.0</td>\n",
       "      <td>NaN</td>\n",
       "    </tr>\n",
       "    <tr>\n",
       "      <th>2</th>\n",
       "      <td>1107</td>\n",
       "      <td>1968</td>\n",
       "      <td>SMA</td>\n",
       "      <td>Menikah</td>\n",
       "      <td>29857000.0</td>\n",
       "      <td>0.0</td>\n",
       "      <td>0.0</td>\n",
       "      <td>34.0</td>\n",
       "      <td>8092.0</td>\n",
       "      <td>22253.0</td>\n",
       "      <td>30345.0</td>\n",
       "      <td>26299.0</td>\n",
       "      <td>2.0</td>\n",
       "      <td>0.0</td>\n",
       "      <td>5.0</td>\n",
       "      <td>0.0</td>\n",
       "      <td>2013-08-06</td>\n",
       "    </tr>\n",
       "    <tr>\n",
       "      <th>3</th>\n",
       "      <td>4478</td>\n",
       "      <td>1971</td>\n",
       "      <td>Doktor</td>\n",
       "      <td>Menikah</td>\n",
       "      <td>117949098.0</td>\n",
       "      <td>0.0</td>\n",
       "      <td>1.0</td>\n",
       "      <td>82.0</td>\n",
       "      <td>4872.0</td>\n",
       "      <td>126061.0</td>\n",
       "      <td>0.0</td>\n",
       "      <td>9745.0</td>\n",
       "      <td>3.0</td>\n",
       "      <td>5.0</td>\n",
       "      <td>7.0</td>\n",
       "      <td>0.0</td>\n",
       "      <td>NaN</td>\n",
       "    </tr>\n",
       "    <tr>\n",
       "      <th>4</th>\n",
       "      <td>5080</td>\n",
       "      <td>1974</td>\n",
       "      <td>Sarjana</td>\n",
       "      <td>Rencana Menikah</td>\n",
       "      <td>164761134.0</td>\n",
       "      <td>0.0</td>\n",
       "      <td>0.0</td>\n",
       "      <td>28.0</td>\n",
       "      <td>343208.0</td>\n",
       "      <td>1416462.0</td>\n",
       "      <td>236196.0</td>\n",
       "      <td>107776.0</td>\n",
       "      <td>0.0</td>\n",
       "      <td>1.0</td>\n",
       "      <td>8.0</td>\n",
       "      <td>0.0</td>\n",
       "      <td>NaN</td>\n",
       "    </tr>\n",
       "  </tbody>\n",
       "</table>\n",
       "</div>"
      ],
      "text/plain": [
       "     ID  tahun_kelahiran pendidikan status_pernikahan   pendapatan  \\\n",
       "0  2241             1957    Sarjana               NaN  120660151.0   \n",
       "1  2274             1968     Doktor           Menikah  163551821.0   \n",
       "2  1107             1968        SMA           Menikah   29857000.0   \n",
       "3  4478             1971     Doktor           Menikah  117949098.0   \n",
       "4  5080             1974    Sarjana   Rencana Menikah  164761134.0   \n",
       "\n",
       "   jumlah_anak_balita  jumlah_anak_remaja  terakhir_belanja  belanja_buah  \\\n",
       "0                 0.0                 1.0              63.0      122277.0   \n",
       "1                 0.0                 1.0              58.0       35761.0   \n",
       "2                 0.0                 0.0              34.0        8092.0   \n",
       "3                 0.0                 1.0              82.0        4872.0   \n",
       "4                 0.0                 0.0              28.0      343208.0   \n",
       "\n",
       "   belanja_daging  belanja_ikan  belanja_kue  pembelian_diskon  pembelian_web  \\\n",
       "0        541399.0      214192.0      84305.0               4.0            6.0   \n",
       "1        353335.0       63365.0      41112.0               2.0            5.0   \n",
       "2         22253.0       30345.0      26299.0               2.0            0.0   \n",
       "3        126061.0           0.0       9745.0               3.0            5.0   \n",
       "4       1416462.0      236196.0     107776.0               0.0            1.0   \n",
       "\n",
       "   pembelian_toko  keluhan tanggal_menjadi_anggota  \n",
       "0            10.0      0.0                     NaN  \n",
       "1            10.0      0.0                     NaN  \n",
       "2             5.0      0.0              2013-08-06  \n",
       "3             7.0      0.0                     NaN  \n",
       "4             8.0      0.0                     NaN  "
      ]
     },
     "execution_count": 7,
     "metadata": {},
     "output_type": "execute_result"
    }
   ],
   "source": [
    "test.head()"
   ]
  },
  {
   "cell_type": "code",
   "execution_count": 8,
   "metadata": {},
   "outputs": [
    {
     "data": {
      "text/plain": [
       "Index(['ID', 'tahun_kelahiran', 'pendidikan', 'status_pernikahan',\n",
       "       'pendapatan', 'jumlah_anak_balita', 'jumlah_anak_remaja',\n",
       "       'terakhir_belanja', 'belanja_buah', 'belanja_daging', 'belanja_ikan',\n",
       "       'belanja_kue', 'pembelian_diskon', 'pembelian_web', 'pembelian_toko',\n",
       "       'keluhan', 'tanggal_menjadi_anggota'],\n",
       "      dtype='object')"
      ]
     },
     "execution_count": 8,
     "metadata": {},
     "output_type": "execute_result"
    }
   ],
   "source": [
    "test.columns"
   ]
  },
  {
   "cell_type": "code",
   "execution_count": 9,
   "metadata": {},
   "outputs": [
    {
     "data": {
      "text/plain": [
       "tahun_kelahiran              int64\n",
       "pendidikan                  object\n",
       "status_pernikahan           object\n",
       "pendapatan                 float64\n",
       "jumlah_anak_balita         float64\n",
       "jumlah_anak_remaja         float64\n",
       "terakhir_belanja           float64\n",
       "belanja_buah               float64\n",
       "belanja_daging             float64\n",
       "belanja_ikan               float64\n",
       "belanja_kue                float64\n",
       "pembelian_diskon           float64\n",
       "pembelian_web              float64\n",
       "pembelian_toko             float64\n",
       "keluhan                    float64\n",
       "tanggal_menjadi_anggota     object\n",
       "dtype: object"
      ]
     },
     "execution_count": 9,
     "metadata": {},
     "output_type": "execute_result"
    }
   ],
   "source": [
    "train_features.dtypes"
   ]
  },
  {
   "cell_type": "code",
   "execution_count": 10,
   "metadata": {},
   "outputs": [
    {
     "data": {
      "text/html": [
       "<div>\n",
       "<style scoped>\n",
       "    .dataframe tbody tr th:only-of-type {\n",
       "        vertical-align: middle;\n",
       "    }\n",
       "\n",
       "    .dataframe tbody tr th {\n",
       "        vertical-align: top;\n",
       "    }\n",
       "\n",
       "    .dataframe thead th {\n",
       "        text-align: right;\n",
       "    }\n",
       "</style>\n",
       "<table border=\"1\" class=\"dataframe\">\n",
       "  <thead>\n",
       "    <tr style=\"text-align: right;\">\n",
       "      <th></th>\n",
       "      <th>tahun_kelahiran</th>\n",
       "      <th>pendidikan</th>\n",
       "      <th>status_pernikahan</th>\n",
       "      <th>pendapatan</th>\n",
       "      <th>jumlah_anak_balita</th>\n",
       "      <th>jumlah_anak_remaja</th>\n",
       "      <th>terakhir_belanja</th>\n",
       "      <th>belanja_buah</th>\n",
       "      <th>belanja_daging</th>\n",
       "      <th>belanja_ikan</th>\n",
       "      <th>belanja_kue</th>\n",
       "      <th>pembelian_diskon</th>\n",
       "      <th>pembelian_web</th>\n",
       "      <th>pembelian_toko</th>\n",
       "      <th>keluhan</th>\n",
       "      <th>tanggal_menjadi_anggota</th>\n",
       "      <th>jumlah_promosi</th>\n",
       "    </tr>\n",
       "  </thead>\n",
       "  <tbody>\n",
       "    <tr>\n",
       "      <th>0</th>\n",
       "      <td>1979</td>\n",
       "      <td>Sarjana</td>\n",
       "      <td>Rencana Menikah</td>\n",
       "      <td>NaN</td>\n",
       "      <td>0.0</td>\n",
       "      <td>1.0</td>\n",
       "      <td>NaN</td>\n",
       "      <td>50575.0</td>\n",
       "      <td>260967.0</td>\n",
       "      <td>50575.0</td>\n",
       "      <td>20230.0</td>\n",
       "      <td>2.0</td>\n",
       "      <td>2.0</td>\n",
       "      <td>5.0</td>\n",
       "      <td>0.0</td>\n",
       "      <td>2014-05-05</td>\n",
       "      <td>2</td>\n",
       "    </tr>\n",
       "    <tr>\n",
       "      <th>1</th>\n",
       "      <td>1950</td>\n",
       "      <td>Sarjana</td>\n",
       "      <td>Rencana Menikah</td>\n",
       "      <td>84063000.0</td>\n",
       "      <td>NaN</td>\n",
       "      <td>NaN</td>\n",
       "      <td>70.0</td>\n",
       "      <td>6069.0</td>\n",
       "      <td>44506.0</td>\n",
       "      <td>80920.0</td>\n",
       "      <td>20230.0</td>\n",
       "      <td>9.0</td>\n",
       "      <td>6.0</td>\n",
       "      <td>4.0</td>\n",
       "      <td>0.0</td>\n",
       "      <td>2013-03-17</td>\n",
       "      <td>0</td>\n",
       "    </tr>\n",
       "    <tr>\n",
       "      <th>2</th>\n",
       "      <td>1966</td>\n",
       "      <td>Sarjana</td>\n",
       "      <td>Menikah</td>\n",
       "      <td>127532564.0</td>\n",
       "      <td>0.0</td>\n",
       "      <td>0.0</td>\n",
       "      <td>45.0</td>\n",
       "      <td>117611.0</td>\n",
       "      <td>265460.0</td>\n",
       "      <td>96341.0</td>\n",
       "      <td>145573.0</td>\n",
       "      <td>1.0</td>\n",
       "      <td>1.0</td>\n",
       "      <td>7.0</td>\n",
       "      <td>0.0</td>\n",
       "      <td>NaN</td>\n",
       "      <td>1</td>\n",
       "    </tr>\n",
       "    <tr>\n",
       "      <th>3</th>\n",
       "      <td>1961</td>\n",
       "      <td>Magister</td>\n",
       "      <td>Rencana Menikah</td>\n",
       "      <td>165579620.0</td>\n",
       "      <td>0.0</td>\n",
       "      <td>0.0</td>\n",
       "      <td>90.0</td>\n",
       "      <td>206346.0</td>\n",
       "      <td>1613901.0</td>\n",
       "      <td>27725.0</td>\n",
       "      <td>125868.0</td>\n",
       "      <td>0.0</td>\n",
       "      <td>7.0</td>\n",
       "      <td>8.0</td>\n",
       "      <td>0.0</td>\n",
       "      <td>NaN</td>\n",
       "      <td>4</td>\n",
       "    </tr>\n",
       "    <tr>\n",
       "      <th>4</th>\n",
       "      <td>1970</td>\n",
       "      <td>Sarjana</td>\n",
       "      <td>Rencana Menikah</td>\n",
       "      <td>117703159.0</td>\n",
       "      <td>1.0</td>\n",
       "      <td>1.0</td>\n",
       "      <td>78.0</td>\n",
       "      <td>90563.0</td>\n",
       "      <td>311757.0</td>\n",
       "      <td>40358.0</td>\n",
       "      <td>33875.0</td>\n",
       "      <td>7.0</td>\n",
       "      <td>6.0</td>\n",
       "      <td>5.0</td>\n",
       "      <td>0.0</td>\n",
       "      <td>NaN</td>\n",
       "      <td>4</td>\n",
       "    </tr>\n",
       "    <tr>\n",
       "      <th>...</th>\n",
       "      <td>...</td>\n",
       "      <td>...</td>\n",
       "      <td>...</td>\n",
       "      <td>...</td>\n",
       "      <td>...</td>\n",
       "      <td>...</td>\n",
       "      <td>...</td>\n",
       "      <td>...</td>\n",
       "      <td>...</td>\n",
       "      <td>...</td>\n",
       "      <td>...</td>\n",
       "      <td>...</td>\n",
       "      <td>...</td>\n",
       "      <td>...</td>\n",
       "      <td>...</td>\n",
       "      <td>...</td>\n",
       "      <td>...</td>\n",
       "    </tr>\n",
       "    <tr>\n",
       "      <th>3812</th>\n",
       "      <td>1955</td>\n",
       "      <td>Magister</td>\n",
       "      <td>Menikah</td>\n",
       "      <td>78199470.0</td>\n",
       "      <td>0.0</td>\n",
       "      <td>0.0</td>\n",
       "      <td>33.0</td>\n",
       "      <td>6069.0</td>\n",
       "      <td>25977.0</td>\n",
       "      <td>3856.0</td>\n",
       "      <td>5784.0</td>\n",
       "      <td>5.0</td>\n",
       "      <td>1.0</td>\n",
       "      <td>0.0</td>\n",
       "      <td>0.0</td>\n",
       "      <td>NaN</td>\n",
       "      <td>5</td>\n",
       "    </tr>\n",
       "    <tr>\n",
       "      <th>3813</th>\n",
       "      <td>1947</td>\n",
       "      <td>Doktor</td>\n",
       "      <td>Rencana Menikah</td>\n",
       "      <td>109306000.0</td>\n",
       "      <td>0.0</td>\n",
       "      <td>1.0</td>\n",
       "      <td>44.0</td>\n",
       "      <td>0.0</td>\n",
       "      <td>50575.0</td>\n",
       "      <td>NaN</td>\n",
       "      <td>0.0</td>\n",
       "      <td>3.0</td>\n",
       "      <td>6.0</td>\n",
       "      <td>3.0</td>\n",
       "      <td>0.0</td>\n",
       "      <td>2014-06-09</td>\n",
       "      <td>1</td>\n",
       "    </tr>\n",
       "    <tr>\n",
       "      <th>3814</th>\n",
       "      <td>1974</td>\n",
       "      <td>Magister</td>\n",
       "      <td>Menikah</td>\n",
       "      <td>104621000.0</td>\n",
       "      <td>0.0</td>\n",
       "      <td>2.0</td>\n",
       "      <td>68.0</td>\n",
       "      <td>2023.0</td>\n",
       "      <td>62713.0</td>\n",
       "      <td>8092.0</td>\n",
       "      <td>0.0</td>\n",
       "      <td>7.0</td>\n",
       "      <td>5.0</td>\n",
       "      <td>7.0</td>\n",
       "      <td>0.0</td>\n",
       "      <td>2013-11-07</td>\n",
       "      <td>0</td>\n",
       "    </tr>\n",
       "    <tr>\n",
       "      <th>3815</th>\n",
       "      <td>1957</td>\n",
       "      <td>SMA</td>\n",
       "      <td>Rencana Menikah</td>\n",
       "      <td>110850000.0</td>\n",
       "      <td>1.0</td>\n",
       "      <td>1.0</td>\n",
       "      <td>67.0</td>\n",
       "      <td>18207.0</td>\n",
       "      <td>70805.0</td>\n",
       "      <td>24276.0</td>\n",
       "      <td>NaN</td>\n",
       "      <td>4.0</td>\n",
       "      <td>5.0</td>\n",
       "      <td>4.0</td>\n",
       "      <td>0.0</td>\n",
       "      <td>2013-06-30</td>\n",
       "      <td>0</td>\n",
       "    </tr>\n",
       "    <tr>\n",
       "      <th>3816</th>\n",
       "      <td>1961</td>\n",
       "      <td>Sarjana</td>\n",
       "      <td>Menikah</td>\n",
       "      <td>130512000.0</td>\n",
       "      <td>0.0</td>\n",
       "      <td>0.0</td>\n",
       "      <td>70.0</td>\n",
       "      <td>329749.0</td>\n",
       "      <td>600831.0</td>\n",
       "      <td>420784.0</td>\n",
       "      <td>161840.0</td>\n",
       "      <td>3.0</td>\n",
       "      <td>7.0</td>\n",
       "      <td>15.0</td>\n",
       "      <td>0.0</td>\n",
       "      <td>2014-01-25</td>\n",
       "      <td>0</td>\n",
       "    </tr>\n",
       "  </tbody>\n",
       "</table>\n",
       "<p>3817 rows × 17 columns</p>\n",
       "</div>"
      ],
      "text/plain": [
       "      tahun_kelahiran pendidikan status_pernikahan   pendapatan  \\\n",
       "0                1979    Sarjana   Rencana Menikah          NaN   \n",
       "1                1950    Sarjana   Rencana Menikah   84063000.0   \n",
       "2                1966    Sarjana           Menikah  127532564.0   \n",
       "3                1961   Magister   Rencana Menikah  165579620.0   \n",
       "4                1970    Sarjana   Rencana Menikah  117703159.0   \n",
       "...               ...        ...               ...          ...   \n",
       "3812             1955   Magister           Menikah   78199470.0   \n",
       "3813             1947     Doktor   Rencana Menikah  109306000.0   \n",
       "3814             1974   Magister           Menikah  104621000.0   \n",
       "3815             1957        SMA   Rencana Menikah  110850000.0   \n",
       "3816             1961    Sarjana           Menikah  130512000.0   \n",
       "\n",
       "      jumlah_anak_balita  jumlah_anak_remaja  terakhir_belanja  belanja_buah  \\\n",
       "0                    0.0                 1.0               NaN       50575.0   \n",
       "1                    NaN                 NaN              70.0        6069.0   \n",
       "2                    0.0                 0.0              45.0      117611.0   \n",
       "3                    0.0                 0.0              90.0      206346.0   \n",
       "4                    1.0                 1.0              78.0       90563.0   \n",
       "...                  ...                 ...               ...           ...   \n",
       "3812                 0.0                 0.0              33.0        6069.0   \n",
       "3813                 0.0                 1.0              44.0           0.0   \n",
       "3814                 0.0                 2.0              68.0        2023.0   \n",
       "3815                 1.0                 1.0              67.0       18207.0   \n",
       "3816                 0.0                 0.0              70.0      329749.0   \n",
       "\n",
       "      belanja_daging  belanja_ikan  belanja_kue  pembelian_diskon  \\\n",
       "0           260967.0       50575.0      20230.0               2.0   \n",
       "1            44506.0       80920.0      20230.0               9.0   \n",
       "2           265460.0       96341.0     145573.0               1.0   \n",
       "3          1613901.0       27725.0     125868.0               0.0   \n",
       "4           311757.0       40358.0      33875.0               7.0   \n",
       "...              ...           ...          ...               ...   \n",
       "3812         25977.0        3856.0       5784.0               5.0   \n",
       "3813         50575.0           NaN          0.0               3.0   \n",
       "3814         62713.0        8092.0          0.0               7.0   \n",
       "3815         70805.0       24276.0          NaN               4.0   \n",
       "3816        600831.0      420784.0     161840.0               3.0   \n",
       "\n",
       "      pembelian_web  pembelian_toko  keluhan tanggal_menjadi_anggota  \\\n",
       "0               2.0             5.0      0.0              2014-05-05   \n",
       "1               6.0             4.0      0.0              2013-03-17   \n",
       "2               1.0             7.0      0.0                     NaN   \n",
       "3               7.0             8.0      0.0                     NaN   \n",
       "4               6.0             5.0      0.0                     NaN   \n",
       "...             ...             ...      ...                     ...   \n",
       "3812            1.0             0.0      0.0                     NaN   \n",
       "3813            6.0             3.0      0.0              2014-06-09   \n",
       "3814            5.0             7.0      0.0              2013-11-07   \n",
       "3815            5.0             4.0      0.0              2013-06-30   \n",
       "3816            7.0            15.0      0.0              2014-01-25   \n",
       "\n",
       "      jumlah_promosi  \n",
       "0                  2  \n",
       "1                  0  \n",
       "2                  1  \n",
       "3                  4  \n",
       "4                  4  \n",
       "...              ...  \n",
       "3812               5  \n",
       "3813               1  \n",
       "3814               0  \n",
       "3815               0  \n",
       "3816               0  \n",
       "\n",
       "[3817 rows x 17 columns]"
      ]
     },
     "execution_count": 10,
     "metadata": {},
     "output_type": "execute_result"
    }
   ],
   "source": [
    "# menggabungkan dataset train\n",
    "\n",
    "train = pd.concat([train_features, train_label], axis=1)\n",
    "train"
   ]
  },
  {
   "cell_type": "code",
   "execution_count": 11,
   "metadata": {},
   "outputs": [
    {
     "data": {
      "text/plain": [
       "tahun_kelahiran               0\n",
       "pendidikan                  189\n",
       "status_pernikahan           212\n",
       "pendapatan                  190\n",
       "jumlah_anak_balita          190\n",
       "jumlah_anak_remaja          204\n",
       "terakhir_belanja            172\n",
       "belanja_buah                181\n",
       "belanja_daging              178\n",
       "belanja_ikan                193\n",
       "belanja_kue                 214\n",
       "pembelian_diskon            178\n",
       "pembelian_web               165\n",
       "pembelian_toko              169\n",
       "keluhan                     196\n",
       "tanggal_menjadi_anggota    2752\n",
       "jumlah_promosi                0\n",
       "dtype: int64"
      ]
     },
     "execution_count": 11,
     "metadata": {},
     "output_type": "execute_result"
    }
   ],
   "source": [
    "train.isnull().sum()"
   ]
  },
  {
   "cell_type": "code",
   "execution_count": 16,
   "metadata": {},
   "outputs": [],
   "source": [
    "# Menangani null pada pendidikan dan status_pernikahan \n",
    "\n",
    "train['pendidikan'].fillna('Unknown', inplace=True)\n",
    "train['status_pernikahan'].fillna('Unknown', inplace=True)\n",
    "\n",
    "test['pendidikan'].fillna('Unknown', inplace=True)\n",
    "test['status_pernikahan'].fillna('Unknown', inplace=True)\n"
   ]
  },
  {
   "cell_type": "code",
   "execution_count": 17,
   "metadata": {},
   "outputs": [],
   "source": [
    "# Mengatasi nilai null pada belanja_buah, belanja_daging, belanja_ikan, belanja_kue\n",
    "\n",
    "train['belanja_buah'].fillna(0, inplace=True)\n",
    "train['belanja_daging'].fillna(0, inplace=True)\n",
    "train['belanja_ikan'].fillna(0, inplace=True)\n",
    "train['belanja_kue'].fillna(0, inplace=True)\n",
    "\n",
    "test['belanja_daging'].fillna(0, inplace=True)\n",
    "test['belanja_ikan'].fillna(0, inplace=True)\n",
    "test['belanja_kue'].fillna(0, inplace=True)\n",
    "test['belanja_buah'].fillna(0, inplace=True)"
   ]
  },
  {
   "cell_type": "code",
   "execution_count": 18,
   "metadata": {},
   "outputs": [
    {
     "data": {
      "text/plain": [
       "tahun_kelahiran               0\n",
       "pendidikan                    0\n",
       "status_pernikahan             0\n",
       "pendapatan                  190\n",
       "jumlah_anak_balita          190\n",
       "jumlah_anak_remaja          204\n",
       "terakhir_belanja            172\n",
       "belanja_buah                  0\n",
       "belanja_daging                0\n",
       "belanja_ikan                  0\n",
       "belanja_kue                   0\n",
       "pembelian_diskon            178\n",
       "pembelian_web               165\n",
       "pembelian_toko              169\n",
       "keluhan                     196\n",
       "tanggal_menjadi_anggota    2752\n",
       "jumlah_promosi                0\n",
       "dtype: int64"
      ]
     },
     "execution_count": 18,
     "metadata": {},
     "output_type": "execute_result"
    }
   ],
   "source": [
    "train.isnull().sum()"
   ]
  },
  {
   "cell_type": "code",
   "execution_count": 19,
   "metadata": {},
   "outputs": [],
   "source": [
    "# meangani null pada jumlah_anak_balita, jumlah_anak_remaja, terakhir_belanja, pembelian_diskon, pembelian_web, pembelian_toko, keluhan\n",
    "\n",
    "train['jumlah_anak_balita'].fillna(0, inplace=True)\n",
    "train['jumlah_anak_remaja'].fillna(0, inplace=True)\n",
    "train['terakhir_belanja'].fillna(0, inplace=True)\n",
    "train['pembelian_diskon'].fillna(0, inplace=True)\n",
    "train['pembelian_web'].fillna(0, inplace=True)\n",
    "train['pembelian_toko'].fillna(0, inplace=True)\n",
    "train['keluhan'].fillna(0, inplace=True)\n",
    "\n",
    "\n",
    "test['jumlah_anak_balita'].fillna(0, inplace=True)\n",
    "test['jumlah_anak_remaja'].fillna(0, inplace=True)\n",
    "test['terakhir_belanja'].fillna(0, inplace=True)\n",
    "test['pembelian_diskon'].fillna(0, inplace=True)\n",
    "test['pembelian_web'].fillna(0, inplace=True)\n",
    "test['pembelian_toko'].fillna(0, inplace=True)\n",
    "test['keluhan'].fillna(0, inplace=True)"
   ]
  },
  {
   "cell_type": "code",
   "execution_count": 22,
   "metadata": {},
   "outputs": [],
   "source": [
    "# menangani null pada pendapatan\n",
    "\n",
    "mean_value = train['pendapatan'].mean()\n",
    "train['pendapatan'].fillna(mean_value, inplace=True)\n",
    "\n",
    "mean_value1 = test['pendapatan'].mean()\n",
    "test['pendapatan'].fillna(mean_value1, inplace=True)"
   ]
  },
  {
   "cell_type": "code",
   "execution_count": 24,
   "metadata": {},
   "outputs": [],
   "source": [
    "# menangani nilai null pada tanggal_menjadi_anggota\n",
    "\n",
    "train['tanggal_menjadi_anggota'] = train['tanggal_menjadi_anggota'].fillna(train['tanggal_menjadi_anggota'].mode()[0])\n",
    "\n",
    "test['tanggal_menjadi_anggota'] = test['tanggal_menjadi_anggota'].fillna(test['tanggal_menjadi_anggota'].mode()[0])"
   ]
  },
  {
   "cell_type": "code",
   "execution_count": 25,
   "metadata": {},
   "outputs": [
    {
     "data": {
      "text/plain": [
       "tahun_kelahiran            0\n",
       "pendidikan                 0\n",
       "status_pernikahan          0\n",
       "pendapatan                 0\n",
       "jumlah_anak_balita         0\n",
       "jumlah_anak_remaja         0\n",
       "terakhir_belanja           0\n",
       "belanja_buah               0\n",
       "belanja_daging             0\n",
       "belanja_ikan               0\n",
       "belanja_kue                0\n",
       "pembelian_diskon           0\n",
       "pembelian_web              0\n",
       "pembelian_toko             0\n",
       "keluhan                    0\n",
       "tanggal_menjadi_anggota    0\n",
       "jumlah_promosi             0\n",
       "dtype: int64"
      ]
     },
     "execution_count": 25,
     "metadata": {},
     "output_type": "execute_result"
    }
   ],
   "source": [
    "train.isnull().sum()"
   ]
  },
  {
   "cell_type": "code",
   "execution_count": 26,
   "metadata": {},
   "outputs": [
    {
     "data": {
      "text/plain": [
       "ID                         0\n",
       "tahun_kelahiran            0\n",
       "pendidikan                 0\n",
       "status_pernikahan          0\n",
       "pendapatan                 0\n",
       "jumlah_anak_balita         0\n",
       "jumlah_anak_remaja         0\n",
       "terakhir_belanja           0\n",
       "belanja_buah               0\n",
       "belanja_daging             0\n",
       "belanja_ikan               0\n",
       "belanja_kue                0\n",
       "pembelian_diskon           0\n",
       "pembelian_web              0\n",
       "pembelian_toko             0\n",
       "keluhan                    0\n",
       "tanggal_menjadi_anggota    0\n",
       "dtype: int64"
      ]
     },
     "execution_count": 26,
     "metadata": {},
     "output_type": "execute_result"
    }
   ],
   "source": [
    "test.isnull().sum()"
   ]
  },
  {
   "cell_type": "code",
   "execution_count": null,
   "metadata": {},
   "outputs": [],
   "source": []
  },
  {
   "cell_type": "code",
   "execution_count": null,
   "metadata": {},
   "outputs": [],
   "source": []
  },
  {
   "cell_type": "code",
   "execution_count": null,
   "metadata": {},
   "outputs": [],
   "source": []
  },
  {
   "cell_type": "code",
   "execution_count": null,
   "metadata": {},
   "outputs": [],
   "source": []
  },
  {
   "cell_type": "code",
   "execution_count": null,
   "metadata": {},
   "outputs": [],
   "source": []
  },
  {
   "cell_type": "code",
   "execution_count": null,
   "metadata": {},
   "outputs": [],
   "source": []
  },
  {
   "cell_type": "code",
   "execution_count": null,
   "metadata": {},
   "outputs": [],
   "source": []
  },
  {
   "cell_type": "code",
   "execution_count": null,
   "metadata": {},
   "outputs": [],
   "source": []
  },
  {
   "cell_type": "code",
   "execution_count": null,
   "metadata": {},
   "outputs": [],
   "source": []
  },
  {
   "cell_type": "code",
   "execution_count": 23,
   "metadata": {},
   "outputs": [
    {
     "data": {
      "text/plain": [
       "tahun_kelahiran               0\n",
       "pendidikan                    0\n",
       "status_pernikahan             0\n",
       "pendapatan                    0\n",
       "jumlah_anak_balita            0\n",
       "jumlah_anak_remaja            0\n",
       "terakhir_belanja              0\n",
       "belanja_buah                  0\n",
       "belanja_daging                0\n",
       "belanja_ikan                  0\n",
       "belanja_kue                   0\n",
       "pembelian_diskon              0\n",
       "pembelian_web                 0\n",
       "pembelian_toko                0\n",
       "keluhan                       0\n",
       "tanggal_menjadi_anggota    2752\n",
       "jumlah_promosi                0\n",
       "dtype: int64"
      ]
     },
     "execution_count": 23,
     "metadata": {},
     "output_type": "execute_result"
    }
   ],
   "source": [
    "train.isnull().sum()"
   ]
  },
  {
   "cell_type": "code",
   "execution_count": null,
   "metadata": {},
   "outputs": [],
   "source": [
    "# ubah tipe data jumlah_anak_balita, jumlah_anak_remaja, terakhir_belanja, pembelian_diskon, pembelian_web, pembelian_toko, dan keluhan\n",
    "\n",
    "column = {train_features['jumlah_anak_balita'],\n",
    "          train_features['jumlah_anak_remaja'],\n",
    "          train_features['terakhir_belanja'],\n",
    "          train_features['pembelian_diskon'],\n",
    "          train_features['pembelian_web'],\n",
    "          train_features['pembelian_toko'],\n",
    "          train_features['keluhan']}\n",
    "\n"
   ]
  },
  {
   "cell_type": "code",
   "execution_count": null,
   "metadata": {},
   "outputs": [],
   "source": [
    "train_label"
   ]
  },
  {
   "cell_type": "code",
   "execution_count": null,
   "metadata": {},
   "outputs": [],
   "source": [
    "train_features.head()"
   ]
  },
  {
   "cell_type": "code",
   "execution_count": null,
   "metadata": {},
   "outputs": [],
   "source": [
    "train_features.isnull().sum()"
   ]
  },
  {
   "cell_type": "code",
   "execution_count": null,
   "metadata": {},
   "outputs": [],
   "source": [
    "# Mangatasi nilai null pada data string di train\n",
    "\n",
    "train_features['pendidikan'] = train_features['pendidikan'].fillna(train_features['pendidikan'].mode()[0])\n",
    "train_features['status_pernikahan'] = train_features['status_pernikahan'].fillna(train_features['status_pernikahan'].mode()[0])\n",
    "train_features['tanggal_menjadi_anggota'] = train_features['tanggal_menjadi_anggota'].fillna(train_features['tanggal_menjadi_anggota'].mode()[0])"
   ]
  },
  {
   "cell_type": "code",
   "execution_count": null,
   "metadata": {},
   "outputs": [],
   "source": [
    "# Mangatasi nilai null pada data string di test\n",
    "\n",
    "test['pendidikan'] = test['pendidikan'].fillna(test['pendidikan'].mode()[0])\n",
    "test['status_pernikahan'] = test['status_pernikahan'].fillna(test['status_pernikahan'].mode()[0])\n",
    "test['tanggal_menjadi_anggota'] = test['tanggal_menjadi_anggota'].fillna(test['tanggal_menjadi_anggota'].mode()[0])"
   ]
  },
  {
   "cell_type": "code",
   "execution_count": null,
   "metadata": {},
   "outputs": [],
   "source": [
    "# Mengatasi nilai null pada belanja_buah, belanja_daging, belanja_ikan, belanja_kue di train\n",
    "\n",
    "train_features['belanja_buah'].fillna(0, inplace=True)\n",
    "train_features['belanja_daging'].fillna(0, inplace=True)\n",
    "train_features['belanja_ikan'].fillna(0, inplace=True)\n",
    "train_features['belanja_kue'].fillna(0, inplace=True)\n"
   ]
  },
  {
   "cell_type": "code",
   "execution_count": null,
   "metadata": {},
   "outputs": [],
   "source": [
    "train_features.isnull().sum()"
   ]
  },
  {
   "cell_type": "code",
   "execution_count": null,
   "metadata": {},
   "outputs": [],
   "source": [
    "# Mengatasi nilai null pada belanja_buah, belanja_daging, belanja_ikan, belanja_kue di test\n",
    "\n",
    "test['belanja_buah'].fillna(0, inplace=True)\n",
    "test['belanja_daging'].fillna(0, inplace=True)\n",
    "test['belanja_ikan'].fillna(0, inplace=True)\n",
    "test['belanja_kue'].fillna(0, inplace=True)\n"
   ]
  },
  {
   "cell_type": "code",
   "execution_count": null,
   "metadata": {},
   "outputs": [],
   "source": [
    "test.isnull().sum()"
   ]
  },
  {
   "cell_type": "code",
   "execution_count": null,
   "metadata": {},
   "outputs": [],
   "source": [
    "# Menambahkan kolom baru di train\n",
    "\n",
    "train_features['TotalAmount'] = train_features['belanja_buah'] + train_features['belanja_daging'] + train_features['belanja_ikan'] + train_features['belanja_kue']"
   ]
  },
  {
   "cell_type": "code",
   "execution_count": null,
   "metadata": {},
   "outputs": [],
   "source": [
    "# Menambahkan kolom baru di test\n",
    "\n",
    "test['TotalAmount'] = test['belanja_buah'] + test['belanja_daging'] + test['belanja_ikan'] + test['belanja_kue']"
   ]
  },
  {
   "cell_type": "code",
   "execution_count": null,
   "metadata": {},
   "outputs": [],
   "source": [
    "mean_value = train_features['pendapatan'].mean()\n",
    "print(mean_value)"
   ]
  },
  {
   "cell_type": "code",
   "execution_count": null,
   "metadata": {},
   "outputs": [],
   "source": [
    "# Mengatasi nilai null pada pendapatan, jumlah_anak_balita, jumlah_anak_remaja, terakhir_belanja, pembelian_diskon, pembelian_web, pembelian_toko\n",
    "\n",
    "mean_value1 = train_features['pendapatan'].mean()\n",
    "train_features['pendapatan'].fillna(mean_value, inplace=True)\n",
    "\n",
    "mean_value2 = train_features['jumlah_anak_balita'].mean()\n",
    "train_features['jumlah_anak_balita'].fillna(mean_value, inplace=True)\n",
    "\n",
    "mean_value3 = train_features['jumlah_anak_remaja'].mean()\n",
    "train_features['jumlah_anak_remaja'].fillna(mean_value, inplace=True)\n",
    "\n",
    "mean_value4 = train_features['terakhir_belanja'].mean()\n",
    "train_features['terakhir_belanja'].fillna(mean_value, inplace=True)\n",
    "\n",
    "mean_value5 = train_features['pembelian_diskon'].mean()\n",
    "train_features['pembelian_diskon'].fillna(mean_value, inplace=True)\n",
    "\n",
    "mean_value6 = train_features['pembelian_web'].mean()\n",
    "train_features['pembelian_web'].fillna(mean_value, inplace=True)\n",
    "\n",
    "mean_value7 = train_features['pembelian_toko'].mean()\n",
    "train_features['pembelian_toko'].fillna(mean_value, inplace=True)"
   ]
  },
  {
   "cell_type": "code",
   "execution_count": null,
   "metadata": {},
   "outputs": [],
   "source": [
    "train_features.isnull().sum()"
   ]
  },
  {
   "cell_type": "code",
   "execution_count": null,
   "metadata": {},
   "outputs": [],
   "source": [
    "# Mengatasi nilai null pada pendapatan, jumlah_anak_balita, jumlah_anak_remaja, terakhir_belanja, pembelian_diskon, pembelian_web, pembelian_toko\n",
    "\n",
    "mean_value1 = test['pendapatan'].mean()\n",
    "test['pendapatan'].fillna(mean_value, inplace=True)\n",
    "\n",
    "mean_value2 = test['jumlah_anak_balita'].mean()\n",
    "test['jumlah_anak_balita'].fillna(mean_value, inplace=True)\n",
    "\n",
    "mean_value3 = test['jumlah_anak_remaja'].mean()\n",
    "test['jumlah_anak_remaja'].fillna(mean_value, inplace=True)\n",
    "\n",
    "mean_value4 = test['terakhir_belanja'].mean()\n",
    "test['terakhir_belanja'].fillna(mean_value, inplace=True)\n",
    "\n",
    "mean_value5 = test['pembelian_diskon'].mean()\n",
    "test['pembelian_diskon'].fillna(mean_value, inplace=True)\n",
    "\n",
    "mean_value6 = test['pembelian_web'].mean()\n",
    "test['pembelian_web'].fillna(mean_value, inplace=True)\n",
    "\n",
    "mean_value7 = test['pembelian_toko'].mean()\n",
    "test['pembelian_toko'].fillna(mean_value, inplace=True)"
   ]
  },
  {
   "cell_type": "code",
   "execution_count": null,
   "metadata": {},
   "outputs": [],
   "source": [
    "test.isnull().sum()"
   ]
  },
  {
   "cell_type": "code",
   "execution_count": null,
   "metadata": {},
   "outputs": [],
   "source": [
    "# Mengatasi null pada column keluhan\n",
    "\n",
    "train_features['keluhan'].fillna(0, inplace=True)\n",
    "test['keluhan'].fillna(0, inplace=True)"
   ]
  },
  {
   "cell_type": "code",
   "execution_count": null,
   "metadata": {},
   "outputs": [],
   "source": [
    "train_features.isnull().sum()"
   ]
  },
  {
   "cell_type": "code",
   "execution_count": null,
   "metadata": {},
   "outputs": [],
   "source": [
    "test.isnull().sum()"
   ]
  },
  {
   "cell_type": "code",
   "execution_count": null,
   "metadata": {},
   "outputs": [],
   "source": [
    "for col in train_features.columns:\n",
    "    print(col)\n",
    "    print(train_features[col].unique())\n",
    "    print()"
   ]
  },
  {
   "cell_type": "code",
   "execution_count": null,
   "metadata": {},
   "outputs": [],
   "source": []
  },
  {
   "cell_type": "code",
   "execution_count": null,
   "metadata": {},
   "outputs": [],
   "source": [
    "train_features[train_features['pendidikan'] == '5']"
   ]
  },
  {
   "cell_type": "code",
   "execution_count": null,
   "metadata": {},
   "outputs": [],
   "source": [
    "train_features['pendidikan'].mode()"
   ]
  },
  {
   "cell_type": "code",
   "execution_count": null,
   "metadata": {},
   "outputs": [],
   "source": [
    "train_features['pendidikan'] = train_features['pendidikan'].str.replace('5', 'Sarjana')"
   ]
  },
  {
   "cell_type": "code",
   "execution_count": null,
   "metadata": {},
   "outputs": [],
   "source": [
    "train_features['status_pernikahan'].unique()"
   ]
  },
  {
   "cell_type": "code",
   "execution_count": null,
   "metadata": {},
   "outputs": [],
   "source": [
    "train_features[train_features['status_pernikahan'] == '5']"
   ]
  },
  {
   "cell_type": "code",
   "execution_count": null,
   "metadata": {},
   "outputs": [],
   "source": [
    "train_features['status_pernikahan'].mode()"
   ]
  },
  {
   "cell_type": "code",
   "execution_count": null,
   "metadata": {},
   "outputs": [],
   "source": [
    "train_features['status_pernikahan'] = train_features['status_pernikahan'].str.replace('5', 'Rencana Menikah')"
   ]
  },
  {
   "cell_type": "code",
   "execution_count": null,
   "metadata": {},
   "outputs": [],
   "source": [
    "for col in train_features.columns:\n",
    "    print(col)\n",
    "    print(train_features[col].unique())\n",
    "    print()"
   ]
  },
  {
   "cell_type": "code",
   "execution_count": null,
   "metadata": {},
   "outputs": [],
   "source": [
    "for col in test.columns:\n",
    "    print(col)\n",
    "    print(test[col].unique())\n",
    "    print()"
   ]
  },
  {
   "cell_type": "code",
   "execution_count": null,
   "metadata": {},
   "outputs": [],
   "source": [
    "test['pendidikan'].mode()"
   ]
  },
  {
   "cell_type": "code",
   "execution_count": null,
   "metadata": {},
   "outputs": [],
   "source": [
    "test['pendidikan'] = test['pendidikan'].str.replace('5', 'Sarjana')"
   ]
  },
  {
   "cell_type": "code",
   "execution_count": null,
   "metadata": {},
   "outputs": [],
   "source": [
    "test['status_pernikahan'].mode()"
   ]
  },
  {
   "cell_type": "code",
   "execution_count": null,
   "metadata": {},
   "outputs": [],
   "source": [
    "test['status_pernikahan'] = test['status_pernikahan'].str.replace('5', 'Rencana Menikah')"
   ]
  },
  {
   "cell_type": "code",
   "execution_count": null,
   "metadata": {},
   "outputs": [],
   "source": [
    "for col in test.columns:\n",
    "    print(col)\n",
    "    print(test[col].unique())\n",
    "    print()"
   ]
  },
  {
   "cell_type": "code",
   "execution_count": null,
   "metadata": {},
   "outputs": [],
   "source": [
    "train_label.isnull().sum()"
   ]
  },
  {
   "cell_type": "code",
   "execution_count": null,
   "metadata": {},
   "outputs": [],
   "source": [
    "# Buat dictionary untuk mapping nilai pendidikan ke angka\n",
    "mapping_pendidikan = {'SMP': 1, 'SMA': 2, 'Sarjana': 3, 'Magister': 4,\n",
    "           'Doktor': 5}\n",
    "\n",
    "# Encode kolom 'pendidikan' menggunakan mapping\n",
    "train_features['pendidikan'] = train_features['pendidikan'].map(mapping_pendidikan)"
   ]
  },
  {
   "cell_type": "code",
   "execution_count": null,
   "metadata": {},
   "outputs": [],
   "source": [
    "train_features.head()"
   ]
  },
  {
   "cell_type": "code",
   "execution_count": null,
   "metadata": {},
   "outputs": [],
   "source": [
    "# Buat dictionary untuk mapping nilai status_pernikahan ke angka\n",
    "mapping_status = {'Sendiri': 1, 'Rencana Menikah': 2, 'Menikah': 3, 'Cerai': 4,\n",
    "           'Cerai Mati': 5}\n",
    "\n",
    "# Encode kolom 'status_pernikahan' menggunakan mapping\n",
    "train_features['status_pernikahan'] = train_features['status_pernikahan'].map(mapping_status)"
   ]
  },
  {
   "cell_type": "code",
   "execution_count": null,
   "metadata": {},
   "outputs": [],
   "source": [
    "train_features.head()"
   ]
  },
  {
   "cell_type": "code",
   "execution_count": null,
   "metadata": {},
   "outputs": [],
   "source": [
    "train_features['tanggal_menjadi_anggota'] = train_features['tanggal_menjadi_anggota'].astype(dtype='datetime64[ns]')"
   ]
  },
  {
   "cell_type": "code",
   "execution_count": null,
   "metadata": {},
   "outputs": [],
   "source": [
    "train_features.head()"
   ]
  },
  {
   "cell_type": "code",
   "execution_count": null,
   "metadata": {},
   "outputs": [],
   "source": [
    "train_features.info()"
   ]
  },
  {
   "cell_type": "code",
   "execution_count": null,
   "metadata": {},
   "outputs": [],
   "source": [
    "# Buat dictionary untuk mapping nilai pendidikan ke angka\n",
    "mapping_pendidikan = {'SMP': 1, 'SMA': 2, 'Sarjana': 3, 'Magister': 4,\n",
    "           'Doktor': 5}\n",
    "\n",
    "# Encode kolom 'pendidikan' menggunakan mapping\n",
    "test['pendidikan'] = test['pendidikan'].map(mapping_pendidikan)"
   ]
  },
  {
   "cell_type": "code",
   "execution_count": null,
   "metadata": {},
   "outputs": [],
   "source": [
    "# Buat dictionary untuk mapping nilai status_pernikahan ke angka\n",
    "mapping_status = {'Sendiri': 1, 'Rencana Menikah': 2, 'Menikah': 3, 'Cerai': 4,\n",
    "           'Cerai Mati': 5}\n",
    "\n",
    "# Encode kolom 'status_pernikahan' menggunakan mapping\n",
    "test['status_pernikahan'] = test['status_pernikahan'].map(mapping_status)"
   ]
  },
  {
   "cell_type": "code",
   "execution_count": null,
   "metadata": {},
   "outputs": [],
   "source": [
    "test['tanggal_menjadi_anggota'] = test['tanggal_menjadi_anggota'].astype(dtype='datetime64[ns]')"
   ]
  },
  {
   "cell_type": "code",
   "execution_count": null,
   "metadata": {},
   "outputs": [],
   "source": [
    "test.head()"
   ]
  },
  {
   "cell_type": "code",
   "execution_count": null,
   "metadata": {},
   "outputs": [],
   "source": [
    "# Menghapus kolom ID\n",
    "\n",
    "test = test.drop(columns='ID')"
   ]
  },
  {
   "cell_type": "code",
   "execution_count": null,
   "metadata": {},
   "outputs": [],
   "source": [
    "format.head()"
   ]
  },
  {
   "cell_type": "code",
   "execution_count": null,
   "metadata": {},
   "outputs": [],
   "source": [
    "test.head()"
   ]
  },
  {
   "cell_type": "code",
   "execution_count": null,
   "metadata": {},
   "outputs": [],
   "source": [
    "from sklearn import preprocessing\n",
    "le = preprocessing.LabelEncoder()\n",
    "\n",
    "train_features.tanggal_menjadi_anggota = le.fit_transform(train_features.tanggal_menjadi_anggota)\n",
    "test.tanggal_menjadi_anggota = le.fit_transform(test.tanggal_menjadi_anggota)"
   ]
  },
  {
   "cell_type": "code",
   "execution_count": null,
   "metadata": {},
   "outputs": [],
   "source": [
    "train_features.head()"
   ]
  },
  {
   "cell_type": "code",
   "execution_count": null,
   "metadata": {},
   "outputs": [],
   "source": [
    "test.head()"
   ]
  },
  {
   "cell_type": "code",
   "execution_count": null,
   "metadata": {},
   "outputs": [],
   "source": [
    "train_features['tanggal_menjadi_anggota'].unique()"
   ]
  },
  {
   "cell_type": "code",
   "execution_count": null,
   "metadata": {},
   "outputs": [],
   "source": [
    "train_features.info()"
   ]
  },
  {
   "cell_type": "code",
   "execution_count": null,
   "metadata": {},
   "outputs": [],
   "source": [
    "test.info()"
   ]
  },
  {
   "cell_type": "markdown",
   "metadata": {},
   "source": [
    "# Melihat data yang relevan dengan melihat korelasi setiap feature terhadap variabel target"
   ]
  },
  {
   "cell_type": "code",
   "execution_count": null,
   "metadata": {},
   "outputs": [],
   "source": [
    "# Melihat data yang relevan dengan melihat korelasi setiap feature terhadap variabel target"
   ]
  },
  {
   "cell_type": "code",
   "execution_count": null,
   "metadata": {},
   "outputs": [],
   "source": [
    "# Menggabungkan fitur dan variabel target menjadi satu dataframe\n",
    "df = pd.concat([train_features, train_label], axis=1)\n",
    "df"
   ]
  },
  {
   "cell_type": "code",
   "execution_count": null,
   "metadata": {},
   "outputs": [],
   "source": [
    "# Menghitung korelasi Pearson antara setiap fitur dan variabel target\n",
    "df.corr()"
   ]
  },
  {
   "cell_type": "code",
   "execution_count": null,
   "metadata": {},
   "outputs": [],
   "source": [
    "# Membuat heatmap dari data korelasi\n",
    "corr_matrix = df.corr()  # Menghitung matriks korelasi\n",
    "sns.heatmap(corr_matrix, annot=True, cmap='coolwarm')  # Membuat heatmap\n",
    "\n",
    "# Menampilkan heatmap\n",
    "plt.title('Heatmap Korelasi')\n",
    "plt.show()\n",
    "     "
   ]
  },
  {
   "cell_type": "markdown",
   "metadata": {},
   "source": [
    "# Data Processing"
   ]
  },
  {
   "cell_type": "code",
   "execution_count": null,
   "metadata": {},
   "outputs": [],
   "source": [
    "df.columns"
   ]
  },
  {
   "cell_type": "code",
   "execution_count": null,
   "metadata": {},
   "outputs": [],
   "source": [
    "# Memilih fitur yang akan digunakan untuk prediksi\n",
    "features = ['tahun_kelahiran', 'pendidikan', 'status_pernikahan', 'pendapatan',\n",
    "       'jumlah_anak_balita', 'jumlah_anak_remaja', 'terakhir_belanja',\n",
    "       'belanja_buah', 'belanja_daging', 'belanja_ikan', 'belanja_kue',\n",
    "       'pembelian_diskon', 'pembelian_web', 'pembelian_toko', 'keluhan',\n",
    "       'tanggal_menjadi_anggota']\n",
    "target = 'jumlah_promosi'\n",
    "     "
   ]
  },
  {
   "cell_type": "code",
   "execution_count": null,
   "metadata": {},
   "outputs": [],
   "source": [
    "# Memisahkan fitur dan label dari data train\n",
    "X_train = train_features[features]\n",
    "y_train = train_label[target]"
   ]
  },
  {
   "cell_type": "code",
   "execution_count": null,
   "metadata": {},
   "outputs": [],
   "source": [
    "# Memisahkan fitur dari data test\n",
    "X_test = test"
   ]
  },
  {
   "cell_type": "markdown",
   "metadata": {},
   "source": [
    "# Membangun model"
   ]
  },
  {
   "cell_type": "code",
   "execution_count": null,
   "metadata": {},
   "outputs": [],
   "source": [
    "from sklearn.model_selection import cross_val_score\n",
    "from sklearn.metrics import make_scorer, f1_score\n",
    "\n",
    "\n",
    "# Definisikan fungsi evaluasi Macro F-Score\n",
    "macro_f1_scorer = make_scorer(f1_score, average='macro')"
   ]
  },
  {
   "cell_type": "markdown",
   "metadata": {},
   "source": [
    "## Linear Regression"
   ]
  },
  {
   "cell_type": "code",
   "execution_count": null,
   "metadata": {},
   "outputs": [],
   "source": [
    "linreg = LinearRegression()"
   ]
  },
  {
   "cell_type": "code",
   "execution_count": null,
   "metadata": {},
   "outputs": [],
   "source": [
    "# Hitung skor evaluasi menggunakan validasi silang dan Macro F-Score\n",
    "scores = cross_val_score(linreg, X_train, y_train, cv=10, scoring=macro_f1_scorer)"
   ]
  },
  {
   "cell_type": "markdown",
   "metadata": {},
   "source": [
    "## Ridege Regression"
   ]
  },
  {
   "cell_type": "code",
   "execution_count": null,
   "metadata": {},
   "outputs": [],
   "source": [
    "ridge = Ridge()"
   ]
  },
  {
   "cell_type": "code",
   "execution_count": null,
   "metadata": {},
   "outputs": [],
   "source": [
    "scores = -1 * cross_val_score(ridge, X_train, y_train, cv = 10, scoring=macro_f1_scorer)"
   ]
  },
  {
   "cell_type": "markdown",
   "metadata": {},
   "source": [
    "## RandomForest Regressor"
   ]
  },
  {
   "cell_type": "code",
   "execution_count": null,
   "metadata": {},
   "outputs": [],
   "source": [
    "rfr = RandomForestRegressor()"
   ]
  },
  {
   "cell_type": "code",
   "execution_count": null,
   "metadata": {},
   "outputs": [],
   "source": [
    "scores = -1 * cross_val_score(rfr, X_train, y_train, cv = 10, scoring=macro_f1_scorer)\n",
    "#scores.mean()"
   ]
  },
  {
   "cell_type": "code",
   "execution_count": null,
   "metadata": {},
   "outputs": [],
   "source": [
    "# Pilih salah satu algoritma klasifikasi, misalnya Random Forest\n",
    "from sklearn.ensemble import RandomForestClassifier"
   ]
  },
  {
   "cell_type": "code",
   "execution_count": null,
   "metadata": {},
   "outputs": [],
   "source": [
    "# Membuat objek model Random Forest\n",
    "rf_model = RandomForestClassifier(n_estimators=100, random_state=42)"
   ]
  },
  {
   "cell_type": "code",
   "execution_count": null,
   "metadata": {},
   "outputs": [],
   "source": [
    "# Melatih model menggunakan data pelatihan\n",
    "rf_model.fit(X_train, y_train)"
   ]
  },
  {
   "cell_type": "code",
   "execution_count": null,
   "metadata": {},
   "outputs": [],
   "source": [
    "# Membuat prediksi menggunakan data pengujian\n",
    "y_pred_rf = rf_model.predict(X_test)"
   ]
  },
  {
   "cell_type": "code",
   "execution_count": null,
   "metadata": {},
   "outputs": [],
   "source": [
    "# Menghitung Macro F-Score\n",
    "from sklearn.metrics import f1_score"
   ]
  },
  {
   "cell_type": "code",
   "execution_count": null,
   "metadata": {},
   "outputs": [],
   "source": [
    "format"
   ]
  },
  {
   "cell_type": "code",
   "execution_count": null,
   "metadata": {},
   "outputs": [],
   "source": [
    "macro_fscore_rf = f1_score(format['jumlah_promosi'], y_pred_rf, average='macro')\n",
    "print(\"Macro F-Score (Random Forest):\", macro_fscore_rf)"
   ]
  },
  {
   "cell_type": "code",
   "execution_count": null,
   "metadata": {},
   "outputs": [],
   "source": [
    "\n",
    "\n",
    "\n",
    "\n",
    "\n",
    "\n",
    "# Langkah 6: Evaluasi Model dengan Macro F-Score\n",
    "\n",
    "\n",
    "\n",
    "\n",
    "\n"
   ]
  }
 ],
 "metadata": {
  "kernelspec": {
   "display_name": "Python 3",
   "language": "python",
   "name": "python3"
  },
  "language_info": {
   "codemirror_mode": {
    "name": "ipython",
    "version": 3
   },
   "file_extension": ".py",
   "mimetype": "text/x-python",
   "name": "python",
   "nbconvert_exporter": "python",
   "pygments_lexer": "ipython3",
   "version": "3.9.13"
  }
 },
 "nbformat": 4,
 "nbformat_minor": 2
}
